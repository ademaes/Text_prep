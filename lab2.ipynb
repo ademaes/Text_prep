{
  "cells": [
    {
      "cell_type": "code",
      "execution_count": null,
      "metadata": {
        "id": "sSUoHE5d2X2T"
      },
      "outputs": [],
      "source": [
        "#\n",
        "# Edwin Montoya-Múnera - emontoya@eafit.edu.co\n",
        "# Universidad EAFIT \n",
        "# 2023-1\n",
        "#"
      ]
    },
    {
      "cell_type": "code",
      "execution_count": 1,
      "metadata": {
        "colab": {
          "base_uri": "https://localhost:8080/"
        },
        "id": "LWBFHbzS20OQ",
        "outputId": "002f0fa0-1db5-4dc2-b34c-7d243df68b69"
      },
      "outputs": [
        {
          "output_type": "stream",
          "name": "stdout",
          "text": [
            "Mounted at /content/gdrive\n"
          ]
        }
      ],
      "source": [
        "#configuración en google colab de spark y pyspark\n",
        "from google.colab import drive\n",
        "drive.mount('/content/gdrive')"
      ]
    },
    {
      "cell_type": "code",
      "source": [
        "%cd gdrive"
      ],
      "metadata": {
        "colab": {
          "base_uri": "https://localhost:8080/"
        },
        "id": "QhRq6IPFZWb2",
        "outputId": "4bbd92ce-3f49-4d3a-9a7d-4fe7ff8521e2"
      },
      "execution_count": 3,
      "outputs": [
        {
          "output_type": "stream",
          "name": "stdout",
          "text": [
            "/content/gdrive\n"
          ]
        }
      ]
    },
    {
      "cell_type": "code",
      "source": [
        "%cd MyDrive"
      ],
      "metadata": {
        "colab": {
          "base_uri": "https://localhost:8080/"
        },
        "id": "Mv4Q5fTHZfZw",
        "outputId": "4e59611c-4085-4215-febc-dabb681b6ff3"
      },
      "execution_count": 4,
      "outputs": [
        {
          "output_type": "stream",
          "name": "stdout",
          "text": [
            "/content/gdrive/MyDrive\n"
          ]
        }
      ]
    },
    {
      "cell_type": "code",
      "execution_count": null,
      "metadata": {
        "id": "jSuD9g4H2X2Y"
      },
      "outputs": [],
      "source": [
        "# cargar las librerias necesarias\n",
        "## 1. nltk para 'procesamiento natural del lenguaje'\n",
        "## 2. pandas para procesamiento de dataframes, muy usado en preparación de datos\n",
        "## 3. re - expresiones regulares\n",
        "## 4. numpy, codecs, etc - otraas"
      ]
    },
    {
      "cell_type": "code",
      "execution_count": 18,
      "metadata": {
        "colab": {
          "base_uri": "https://localhost:8080/"
        },
        "id": "ztaFc9Rk3xx3",
        "outputId": "7c78c451-9ee1-42d7-a164-a3fe81eb3b82"
      },
      "outputs": [
        {
          "output_type": "stream",
          "name": "stdout",
          "text": [
            "Looking in indexes: https://pypi.org/simple, https://us-python.pkg.dev/colab-wheels/public/simple/\n",
            "Requirement already satisfied: nltk in /usr/local/lib/python3.9/dist-packages (3.7)\n",
            "Requirement already satisfied: joblib in /usr/local/lib/python3.9/dist-packages (from nltk) (1.1.1)\n",
            "Requirement already satisfied: regex>=2021.8.3 in /usr/local/lib/python3.9/dist-packages (from nltk) (2022.6.2)\n",
            "Requirement already satisfied: click in /usr/local/lib/python3.9/dist-packages (from nltk) (8.1.3)\n",
            "Requirement already satisfied: tqdm in /usr/local/lib/python3.9/dist-packages (from nltk) (4.65.0)\n",
            "Looking in indexes: https://pypi.org/simple, https://us-python.pkg.dev/colab-wheels/public/simple/\n",
            "Requirement already satisfied: pandas in /usr/local/lib/python3.9/dist-packages (1.4.4)\n",
            "Requirement already satisfied: numpy>=1.18.5 in /usr/local/lib/python3.9/dist-packages (from pandas) (1.22.4)\n",
            "Requirement already satisfied: pytz>=2020.1 in /usr/local/lib/python3.9/dist-packages (from pandas) (2022.7.1)\n",
            "Requirement already satisfied: python-dateutil>=2.8.1 in /usr/local/lib/python3.9/dist-packages (from pandas) (2.8.2)\n",
            "Requirement already satisfied: six>=1.5 in /usr/local/lib/python3.9/dist-packages (from python-dateutil>=2.8.1->pandas) (1.15.0)\n"
          ]
        }
      ],
      "source": [
        "!pip3 install nltk\n",
        "!pip3 install pandas"
      ]
    },
    {
      "cell_type": "code",
      "execution_count": 19,
      "metadata": {
        "id": "OGC8GjQF2X2c"
      },
      "outputs": [],
      "source": [
        "import nltk\n",
        "import pandas as pd\n",
        "import numpy as np\n",
        "import re\n",
        "import codecs\n",
        "import matplotlib.pyplot as plt"
      ]
    },
    {
      "cell_type": "code",
      "source": [
        "!git clone https://github.com/st1800eafit/st1800-231\n"
      ],
      "metadata": {
        "id": "p8vdhre5Yxr1",
        "outputId": "808e753c-d250-4a10-e91f-6e0267279521",
        "colab": {
          "base_uri": "https://localhost:8080/"
        }
      },
      "execution_count": 7,
      "outputs": [
        {
          "output_type": "stream",
          "name": "stdout",
          "text": [
            "Cloning into 'st1800-231'...\n",
            "remote: Enumerating objects: 127, done.\u001b[K\n",
            "remote: Counting objects: 100% (45/45), done.\u001b[K\n",
            "remote: Compressing objects: 100% (36/36), done.\u001b[K\n",
            "remote: Total 127 (delta 13), reused 36 (delta 9), pack-reused 82\u001b[K\n",
            "Receiving objects: 100% (127/127), 88.34 MiB | 12.92 MiB/s, done.\n",
            "Resolving deltas: 100% (13/13), done.\n",
            "Updating files: 100% (86/86), done.\n"
          ]
        }
      ]
    },
    {
      "cell_type": "code",
      "source": [
        "!ls"
      ],
      "metadata": {
        "id": "IwMJEZlRZ6F9"
      },
      "execution_count": null,
      "outputs": []
    },
    {
      "cell_type": "code",
      "execution_count": 14,
      "metadata": {
        "colab": {
          "base_uri": "https://localhost:8080/"
        },
        "id": "UCczY-GZ4hLN",
        "outputId": "01b4f04e-27fa-4264-c894-ba00c892a2f2"
      },
      "outputs": [
        {
          "output_type": "stream",
          "name": "stdout",
          "text": [
            "48903-0.txt  58221-0.txt  pg45438.txt  pg47631.txt\n",
            "57654-0.txt  pg2000.txt   pg47287.txt  pg62627.txt\n"
          ]
        }
      ],
      "source": [
        "!ls 'gdrive/MyDrive/st1800-231/datasets/gutenberg-es/'"
      ]
    },
    {
      "cell_type": "code",
      "source": [
        "%cd .."
      ],
      "metadata": {
        "colab": {
          "base_uri": "https://localhost:8080/"
        },
        "id": "kEE3YUoSax5z",
        "outputId": "b4283631-701b-4277-f33b-2b4f8cd848ba"
      },
      "execution_count": 13,
      "outputs": [
        {
          "output_type": "stream",
          "name": "stdout",
          "text": [
            "/content\n"
          ]
        }
      ]
    },
    {
      "cell_type": "code",
      "source": [
        "!pwd"
      ],
      "metadata": {
        "colab": {
          "base_uri": "https://localhost:8080/"
        },
        "id": "yYTII3I3ea_u",
        "outputId": "413d8053-c49b-4506-8b96-488f07e3e049"
      },
      "execution_count": 20,
      "outputs": [
        {
          "output_type": "stream",
          "name": "stdout",
          "text": [
            "/content\n"
          ]
        }
      ]
    },
    {
      "cell_type": "code",
      "execution_count": 34,
      "metadata": {
        "id": "k3mMCS952X2g"
      },
      "outputs": [],
      "source": [
        "# directorios (path) de entrada y salida:\n",
        "# \n",
        "path_in=\"gdrive/MyDrive/st1800-231/datasets/gutenberg-es/\"\n",
        "path_out=\"gdrive/MyDrive/st1800-231/\"\n",
        "filenametxt='pg2000.txt'\n",
        "filenamecleantxt='pg2000_clean.txt'\n",
        "filenamecsv='pg2000.csv'"
      ]
    },
    {
      "cell_type": "code",
      "source": [],
      "metadata": {
        "colab": {
          "base_uri": "https://localhost:8080/"
        },
        "id": "VwIC8a1ikG6X",
        "outputId": "afbe5909-d552-4a38-b01e-53c0cb90112b"
      },
      "execution_count": 23,
      "outputs": [
        {
          "output_type": "stream",
          "name": "stdout",
          "text": [
            "/content\n"
          ]
        }
      ]
    },
    {
      "cell_type": "code",
      "execution_count": 22,
      "metadata": {
        "id": "G2PK3gGK2X2j",
        "colab": {
          "base_uri": "https://localhost:8080/"
        },
        "outputId": "49a7b7b6-aa98-45d1-9b3b-e68445e5bbb5"
      },
      "outputs": [
        {
          "output_type": "stream",
          "name": "stderr",
          "text": [
            "[nltk_data] Downloading package punkt to /root/nltk_data...\n",
            "[nltk_data]   Unzipping tokenizers/punkt.zip.\n",
            "[nltk_data] Downloading package stopwords to /root/nltk_data...\n",
            "[nltk_data]   Unzipping corpora/stopwords.zip.\n",
            "[nltk_data] Downloading package words to /root/nltk_data...\n",
            "[nltk_data]   Unzipping corpora/words.zip.\n",
            "[nltk_data] Downloading package wordnet to /root/nltk_data...\n",
            "[nltk_data] Downloading package omw-1.4 to /root/nltk_data...\n"
          ]
        },
        {
          "output_type": "execute_result",
          "data": {
            "text/plain": [
              "True"
            ]
          },
          "metadata": {},
          "execution_count": 22
        }
      ],
      "source": [
        "# corpus de nltk para 'tokenizer' y 'stopwords'\n",
        "nltk.download('punkt')\n",
        "nltk.download('stopwords')\n",
        "nltk.download('words')\n",
        "nltk.download('wordnet')\n",
        "nltk.download('omw-1.4')"
      ]
    },
    {
      "cell_type": "code",
      "execution_count": null,
      "metadata": {
        "id": "J_jhadssXhh2"
      },
      "outputs": [],
      "source": [
        "# las demás instrucciones del lab1-nltk-local.ipynb"
      ]
    },
    {
      "cell_type": "code",
      "source": [],
      "metadata": {
        "id": "qV-hOqEdkMGf"
      },
      "execution_count": null,
      "outputs": []
    },
    {
      "cell_type": "code",
      "execution_count": 24,
      "metadata": {
        "id": "9z39fwX-jy1K",
        "colab": {
          "base_uri": "https://localhost:8080/"
        },
        "outputId": "d618d802-e70d-4a2b-91d2-a7becb97fc24"
      },
      "outputs": [
        {
          "output_type": "stream",
          "name": "stdout",
          "text": [
            "17\n",
            "['texto', 'libre', 'que', 'permite', 'crear', 'hiso20091iras', 'epor', '--', '4', 'no', 's', '#', 'e', 'preocupe', 'hola', 'mundo', 'cruel']\n"
          ]
        }
      ],
      "source": [
        "# ejemplo de como nltk tokeniza:\n",
        "texto=\"texto libre que permite crear     hiso20091iras epor--4 no s#e preocupe \\n hola mundo cruel\"\n",
        "tokens = nltk.word_tokenize(texto)\n",
        "print(len(tokens))\n",
        "print(tokens)"
      ]
    },
    {
      "cell_type": "code",
      "execution_count": 25,
      "metadata": {
        "id": "LJMhhxBbjy1L",
        "colab": {
          "base_uri": "https://localhost:8080/"
        },
        "outputId": "fef04f50-e0c7-40d3-a8ec-3f5a72a14bf1"
      },
      "outputs": [
        {
          "output_type": "stream",
          "name": "stdout",
          "text": [
            "13\n",
            "['texto', 'libre', 'que', 'permite', 'crear', 'hiso20091iras', 'epor--4', 'no', 's#e', 'preocupe', 'hola', 'mundo', 'cruel']\n",
            "29\n",
            "['texto', 'libre', 'que', 'permite', 'crear', '', '', '', '', 'hiso20091iras', '', '', '', '', '', '', '', '', '', '', '', 'epor--4', 'no', 's#e', 'preocupe', '\\n', 'hola', 'mundo', 'cruel']\n"
          ]
        }
      ],
      "source": [
        "# note la estrategia de tokenizar con sentencias simples de python, \n",
        "# ¿ cual le parece mejor?\n",
        "# y note la diferencia entre .split() y .split(' ')\n",
        "texto=\"texto libre que permite crear     hiso20091iras            epor--4 no s#e preocupe \\n hola mundo cruel\"\n",
        "tokens = texto.split()\n",
        "print(len(tokens))\n",
        "print(tokens)\n",
        "tokens = texto.split(' ')\n",
        "print(len(tokens))\n",
        "print(tokens)"
      ]
    },
    {
      "cell_type": "code",
      "execution_count": 26,
      "metadata": {
        "id": "oi_kAqXSjy1M",
        "colab": {
          "base_uri": "https://localhost:8080/"
        },
        "outputId": "febcdca0-1af2-41da-a1e7-da98f730662d"
      },
      "outputs": [
        {
          "output_type": "stream",
          "name": "stdout",
          "text": [
            "179\n",
            "{'such', 'doesn', 'themselves', 'doing', \"don't\", 'd', \"you've\", 'with', 'should', 'what', 'up', \"you'd\", 'has', 'and', \"isn't\", 'itself', 'couldn', 'only', 'down', 'after', 'haven', \"you're\", \"that'll\", 'an', 'who', 'whom', 'until', 'very', 'once', 'll', 'me', 'further', 'a', 'both', 'aren', 'will', 'was', 'but', 'own', \"mustn't\", 'below', 'too', \"hasn't\", 'we', 'he', 'where', 'being', \"aren't\", 'this', 'few', 'hers', 'himself', \"shan't\", 'herself', 'ain', 'yours', 'your', 'my', \"it's\", 'because', 'against', 'in', 'into', 'just', 'now', 'have', 'hadn', \"won't\", 'weren', 'during', 'each', 'again', 're', \"she's\", \"haven't\", 'nor', 'our', 'there', \"weren't\", \"didn't\", 'o', 'him', 'them', 'needn', 'be', 'as', 'are', 'i', 'mustn', 'while', 'those', 'for', 'do', 'between', 'same', 'were', 'out', 'these', 'so', 'that', 'won', 'than', 'under', 'it', 'the', 'they', 'ours', 'you', 'myself', 've', 'don', 'then', 'wouldn', 'no', 'didn', 'isn', 'did', 'how', 'which', 'shan', \"needn't\", 'before', 'why', 'his', 'from', 'when', 'other', \"should've\", \"doesn't\", 'does', 'off', \"wouldn't\", \"hadn't\", 'theirs', 'yourself', 'she', 'is', 'on', 'more', 's', 'm', \"mightn't\", 'can', 'all', 'mightn', 'over', 'y', 'at', 'ma', 'any', 'their', 't', 'ourselves', 'here', 'some', 'by', 'yourselves', 'shouldn', 'been', \"wasn't\", 'had', 'above', 'most', \"shouldn't\", 'to', 'or', 'of', \"you'll\", 'its', 'about', 'through', 'not', 'her', 'hasn', \"couldn't\", 'wasn', 'am', 'having', 'if'}\n"
          ]
        }
      ],
      "source": [
        "# stopwords en nltk\n",
        "from nltk.corpus import stopwords\n",
        " \n",
        "stop_words_nltk = set(stopwords.words('spanish'))\n",
        "stop_words_nltk_en = set(stopwords.words('english'))\n",
        "print(len(stop_words_nltk_en))\n",
        "print(stop_words_nltk_en)"
      ]
    },
    {
      "cell_type": "code",
      "execution_count": 27,
      "metadata": {
        "id": "ScmKP6h4jy1M",
        "colab": {
          "base_uri": "https://localhost:8080/"
        },
        "outputId": "f7674695-9725-419a-f95a-b73f696d659e"
      },
      "outputs": [
        {
          "output_type": "stream",
          "name": "stdout",
          "text": [
            "tamaño del diccionario en inglés del nltk:  236736\n",
            "house  true\n",
            "pepito  false\n"
          ]
        }
      ],
      "source": [
        "# permite verificar en nltk si un token pertenece a diccionario de un idioma, en este caso a 'english'\n",
        "from nltk.corpus import words as voc_en\n",
        "\n",
        "x = len(voc_en.words())\n",
        "print('tamaño del diccionario en inglés del nltk: ',x)\n",
        "\n",
        "# verifica si una palabra pertenece al diccionario:\n",
        "w = \"house\"\n",
        "if (len(w) >1) and w.isalpha() and (w in voc_en.words()) and (w not in stop_words_nltk_en):\n",
        "    print(w,\" true\")\n",
        "else:\n",
        "    print(w,\" false\")\n",
        "    \n",
        "w = \"pepito\"\n",
        "if (len(w) >1) and w.isalpha() and (w in voc_en.words()) and (w not in stop_words_nltk_en):\n",
        "    print(w,\" true\")\n",
        "else:\n",
        "    print(w,\" false\")    "
      ]
    },
    {
      "cell_type": "code",
      "execution_count": 28,
      "metadata": {
        "id": "98zsm-H-jy1N"
      },
      "outputs": [],
      "source": [
        "# leer un archivo de ejemplo en .txt\n",
        "input_file = open(path_in+filenametxt, \"r\", encoding='iso-8859-1')\n",
        "filedata = input_file.read()"
      ]
    },
    {
      "cell_type": "code",
      "execution_count": 29,
      "metadata": {
        "id": "yBKTXZNnjy1N",
        "colab": {
          "base_uri": "https://localhost:8080/",
          "height": 665
        },
        "outputId": "c51d1872-97b7-4bbd-a928-b84aa8dc74d4"
      },
      "outputs": [
        {
          "output_type": "stream",
          "name": "stdout",
          "text": [
            "numero de palabras finales =  22840\n",
            "[('don', 2652), ('quijote', 2180), ('sancho', 2148), ('ms', 2044), ('si', 1966), ('dijo', 1808), ('ser', 1293), ('tan', 1243), ('as', 1075), ('seor', 1063), ('respondi', 1063), ('bien', 1050), ('haba', 1034), ('merced', 900), ('pues', 865), ('qu', 849), ('sino', 694), ('dos', 684), ('caballero', 661), ('decir', 578)]\n"
          ]
        },
        {
          "output_type": "display_data",
          "data": {
            "text/plain": [
              "<Figure size 1080x720 with 1 Axes>"
            ],
            "image/png": "[encoded data removed]"
          },
          "metadata": {
            "needs_background": "light"
          }
        }
      ],
      "source": [
        "# opción 1:\n",
        "# TOKENIZAR con .split(), \n",
        "# ELIMINAR tokens de long = 1\n",
        "# ELIMINAR caracteres que no sean alfanumericos y pasar todo a minuscula\n",
        "# REMOVER stop words con nltk\n",
        "# graficar los 20 términos más frecuentes:\n",
        "\n",
        "tokens = filedata.split()\n",
        "tokens = [re.sub(r'[^A-Za-z0-9]+','',w) for w in tokens]\n",
        "# tokens=[word for word in tokens if word.isalpha()] si en vez de re.sub(r'[^A-Za-z0-9]+','',w) hace esto, que pasa?\n",
        "tokens = [w.lower() for w in tokens if len(w)>1]\n",
        "tokens = [w for w in tokens if w not in stop_words_nltk]\n",
        "\n",
        "fdist = nltk.FreqDist(tokens)\n",
        "print('numero de palabras finales = ',len(fdist))\n",
        "topwords = fdist.most_common(20)\n",
        "print (topwords)\n",
        "x,y = zip(*topwords)\n",
        "plt.figure(figsize=(15,10))\n",
        "plt.bar(x,y)\n",
        "plt.xticks(rotation=90)\n",
        "plt.show()"
      ]
    },
    {
      "cell_type": "code",
      "execution_count": 30,
      "metadata": {
        "id": "dGh5ZXJ6jy1O",
        "colab": {
          "base_uri": "https://localhost:8080/",
          "height": 663
        },
        "outputId": "deab74da-e801-4967-cf52-844ec9a525a7"
      },
      "outputs": [
        {
          "output_type": "stream",
          "name": "stdout",
          "text": [
            "numero de palabras finales =  22837\n",
            "[('don', 2652), ('quijote', 2180), ('sancho', 2148), ('ms', 2044), ('si', 1966), ('dijo', 1808), ('ser', 1293), ('l', 1283), ('tan', 1243), ('as', 1075), ('seor', 1063), ('respondi', 1063), ('bien', 1050), ('haba', 1034), ('merced', 900), ('pues', 865), ('qu', 849), ('s', 741), ('sino', 694), ('dos', 684)]\n"
          ]
        },
        {
          "output_type": "display_data",
          "data": {
            "text/plain": [
              "<Figure size 1080x720 with 1 Axes>"
            ],
            "image/png": "[encoded data removed]"
          },
          "metadata": {
            "needs_background": "light"
          }
        }
      ],
      "source": [
        "# opción 2:\n",
        "# TOKENIZAR con nltk, \n",
        "# ELIMINAR tokens de long = 1\n",
        "# ELIMINAR caracteres que no sean alfanumericos\n",
        "# REMOVER stop words\n",
        "# graficar los 20 términos más frecuentes:\n",
        "\n",
        "tokens = nltk.word_tokenize(filedata)\n",
        "tokens = [w.lower() for w in tokens if len(w)>1]\n",
        "tokens = [re.sub(r'[^A-Za-z0-9]+','',w) for w in tokens]\n",
        "tokens = [w for w in tokens if w not in stop_words_nltk]\n",
        "\n",
        "fdist = nltk.FreqDist(tokens)\n",
        "topwords = fdist.most_common(20)\n",
        "print('numero de palabras finales = ',len(fdist))\n",
        "print (topwords)\n",
        "x,y = zip(*topwords)\n",
        "plt.figure(figsize=(15,10))\n",
        "plt.bar(x,y)\n",
        "plt.xticks(rotation=90)\n",
        "plt.show()"
      ]
    },
    {
      "cell_type": "code",
      "execution_count": 31,
      "metadata": {
        "id": "kUufj5Jljy1O",
        "colab": {
          "base_uri": "https://localhost:8080/",
          "height": 627
        },
        "outputId": "4ddfa599-40f2-490e-946f-7ff63aa14e4d"
      },
      "outputs": [
        {
          "output_type": "stream",
          "name": "stdout",
          "text": [
            "numero de palabras finales =  17400\n"
          ]
        },
        {
          "output_type": "display_data",
          "data": {
            "text/plain": [
              "<Figure size 1080x720 with 1 Axes>"
            ],
            "image/png": "[encoded data removed]"
          },
          "metadata": {
            "needs_background": "light"
          }
        }
      ],
      "source": [
        "# Stemming con NLTK\n",
        "\n",
        "from nltk.stem import PorterStemmer\n",
        "from nltk.stem import LancasterStemmer\n",
        "\n",
        "porter = PorterStemmer()\n",
        "lancaster = LancasterStemmer()\n",
        "# probar cada una de las siguientes opciones: porter y lancaster.\n",
        "#tokens = [porter.stem(w) for w in tokens]\n",
        "tokens = [lancaster.stem(w) for w in tokens]\n",
        "\n",
        "fdist = nltk.FreqDist(tokens)\n",
        "topwords = fdist.most_common(20)\n",
        "print('numero de palabras finales = ',len(fdist))\n",
        "x,y = zip(*topwords)\n",
        "plt.figure(figsize=(15,10))\n",
        "plt.bar(x,y)\n",
        "plt.xticks(rotation=90)\n",
        "plt.show()"
      ]
    },
    {
      "cell_type": "code",
      "execution_count": 32,
      "metadata": {
        "id": "DNcE4besjy1O",
        "colab": {
          "base_uri": "https://localhost:8080/",
          "height": 627
        },
        "outputId": "1ac8895d-10c3-437e-af93-9d6d5fb37f20"
      },
      "outputs": [
        {
          "output_type": "stream",
          "name": "stdout",
          "text": [
            "numero de palabras finales =  17331\n"
          ]
        },
        {
          "output_type": "display_data",
          "data": {
            "text/plain": [
              "<Figure size 1080x720 with 1 Axes>"
            ],
            "image/png": "[encoded data removed]"
          },
          "metadata": {
            "needs_background": "light"
          }
        }
      ],
      "source": [
        "# Lemmatization con NLTK\n",
        "\n",
        "from nltk.stem import WordNetLemmatizer\n",
        "\n",
        "wordnet_lemmatizer = WordNetLemmatizer()\n",
        "\n",
        "# probar cada una de las siguientes opciones: \n",
        "#tokens = [wordnet_lemmatizer.lemmatize(w, pos=\"v\") for w in tokens ]\n",
        "tokens = [wordnet_lemmatizer.lemmatize(w) for w in tokens ]\n",
        "\n",
        "fdist = nltk.FreqDist(tokens)\n",
        "topwords = fdist.most_common(20)\n",
        "print('numero de palabras finales = ',len(fdist))\n",
        "x,y = zip(*topwords)\n",
        "plt.figure(figsize=(15,10))\n",
        "plt.bar(x,y)\n",
        "plt.xticks(rotation=90)\n",
        "plt.show()"
      ]
    },
    {
      "cell_type": "code",
      "execution_count": 35,
      "metadata": {
        "id": "AvXaoPnvjy1O"
      },
      "outputs": [],
      "source": [
        "# volver a leer el archivo ejemplo en .txt\n",
        "#input_file = open(path_in+filenametxt, \"r\",encoding='iso-8859-1')\n",
        "input_file = open(path_in+filenametxt, \"r\")\n",
        "output_file_clean = open(path_out+filenamecleantxt, \"w\")"
      ]
    },
    {
      "cell_type": "code",
      "execution_count": 36,
      "metadata": {
        "id": "k0kDb9WPjy1O"
      },
      "outputs": [],
      "source": [
        "from nltk.stem import PorterStemmer\n",
        "from nltk.stem import LancasterStemmer\n",
        "\n",
        "porter = PorterStemmer()\n",
        "lancaster = LancasterStemmer()\n",
        "wordnet_lemmatizer = WordNetLemmatizer()\n",
        "\n",
        "for line in input_file:\n",
        "    line_clean = \"\"\n",
        "    tokens = nltk.word_tokenize(line)\n",
        "    tokens = [re.sub(r'[^A-Za-z0-9]+','',w) for w in tokens]\n",
        "    tokens = [w.lower() for w in tokens if len(w)>1]\n",
        "    tokens = [w for w in tokens if w.isalpha()]\n",
        "    tokens = [w for w in tokens if w not in stop_words_nltk]\n",
        "    #tokens = [wordnet_lemmatizer.lemmatize(w, pos=\"v\") for w in tokens]\n",
        "    tokens = [wordnet_lemmatizer.lemmatize(w) for w in tokens]\n",
        "\n",
        "    #tokens = [porter.stem(w) for w in tokens]\n",
        "    tokens = [lancaster.stem(w) for w in tokens]\n",
        "    \n",
        "    for w in tokens:\n",
        "        line_clean=line_clean+w+\" \"\n",
        "            \n",
        "    if (line_clean!=\"\"):\n",
        "        line_clean=line_clean+\"\\n\"\n",
        "        output_file_clean.write(line_clean)\n",
        "output_file_clean.close()        "
      ]
    },
    {
      "cell_type": "code",
      "execution_count": 37,
      "metadata": {
        "id": "_teoxA88jy1P"
      },
      "outputs": [],
      "source": [
        "input_file_clean = open(path_out+filenamecleantxt, \"r\", encoding='iso-8859-1')"
      ]
    },
    {
      "cell_type": "code",
      "execution_count": 38,
      "metadata": {
        "id": "PxHw4-2njy1P",
        "colab": {
          "base_uri": "https://localhost:8080/",
          "height": 627
        },
        "outputId": "8770ce5f-a353-461c-d097-e182f042684e"
      },
      "outputs": [
        {
          "output_type": "stream",
          "name": "stdout",
          "text": [
            "numero de palabras finales =  17267\n"
          ]
        },
        {
          "output_type": "display_data",
          "data": {
            "text/plain": [
              "<Figure size 1080x720 with 1 Axes>"
            ],
            "image/png": "[encoded data removed]"
          },
          "metadata": {
            "needs_background": "light"
          }
        }
      ],
      "source": [
        "filedata = input_file_clean.read()\n",
        "tokens = filedata.split()\n",
        "fdist = nltk.FreqDist(tokens)\n",
        "topwords = fdist.most_common(20)\n",
        "print('numero de palabras finales = ',len(fdist))\n",
        "x,y = zip(*topwords)\n",
        "plt.figure(figsize=(15,10))\n",
        "plt.bar(x,y)\n",
        "plt.xticks(rotation=90)\n",
        "plt.show()"
      ]
    },
    {
      "cell_type": "code",
      "execution_count": 39,
      "metadata": {
        "id": "I9Vh_RBwjy1P"
      },
      "outputs": [],
      "source": [
        "word_freq = fdist.most_common(len(fdist))"
      ]
    },
    {
      "cell_type": "code",
      "execution_count": 40,
      "metadata": {
        "id": "J84OLOtTjy1P"
      },
      "outputs": [],
      "source": [
        "import csv\n",
        "\n",
        "with open(path_out+filenamecsv, 'w') as csvFile:\n",
        "    writer = csv.writer(csvFile)\n",
        "    writer.writerow([\"word\", \"frecuency\"])\n",
        "    writer.writerows(word_freq)\n",
        "\n",
        "csvFile.close()"
      ]
    },
    {
      "cell_type": "code",
      "execution_count": 41,
      "metadata": {
        "id": "RullDeKkjy1P",
        "colab": {
          "base_uri": "https://localhost:8080/"
        },
        "outputId": "fdf09a16-c5c8-4533-b753-431e12e40211"
      },
      "outputs": [
        {
          "output_type": "stream",
          "name": "stdout",
          "text": [
            "[('don', 2680), ('quijot', 2186), ('sancho', 2150), ('m', 2044), ('si', 1966), ('dijo', 1808), ('seor', 1758), ('hab', 1662), ('ser', 1433), ('tan', 1243), ('respond', 1211), ('a', 1075), ('bien', 1068), ('hac', 994), ('merc', 976), ('caballero', 954), ('pue', 865), ('qu', 849), ('dio', 825), ('buen', 805)]\n"
          ]
        }
      ],
      "source": [
        "# extract top 30 words\n",
        "top_words = word_freq[:20]\n",
        "print(top_words)"
      ]
    },
    {
      "cell_type": "code",
      "execution_count": 42,
      "metadata": {
        "id": "ubITg3upjy1P",
        "colab": {
          "base_uri": "https://localhost:8080/",
          "height": 206
        },
        "outputId": "fceffc6e-46b8-4250-c720-231f601842d9"
      },
      "outputs": [
        {
          "output_type": "execute_result",
          "data": {
            "text/plain": [
              "        0     1\n",
              "0     don  2680\n",
              "1  quijot  2186\n",
              "2  sancho  2150\n",
              "3       m  2044\n",
              "4      si  1966"
            ],
            "text/html": [
              "\n",
              "  <div id=\"df-ac84aab8-fde2-4db1-8880-75212d6bdded\">\n",
              "    <div class=\"colab-df-container\">\n",
              "      <div>\n",
              "<style scoped>\n",
              "    .dataframe tbody tr th:only-of-type {\n",
              "        vertical-align: middle;\n",
              "    }\n",
              "\n",
              "    .dataframe tbody tr th {\n",
              "        vertical-align: top;\n",
              "    }\n",
              "\n",
              "    .dataframe thead th {\n",
              "        text-align: right;\n",
              "    }\n",
              "</style>\n",
              "<table border=\"1\" class=\"dataframe\">\n",
              "  <thead>\n",
              "    <tr style=\"text-align: right;\">\n",
              "      <th></th>\n",
              "      <th>0</th>\n",
              "      <th>1</th>\n",
              "    </tr>\n",
              "  </thead>\n",
              "  <tbody>\n",
              "    <tr>\n",
              "      <th>0</th>\n",
              "      <td>don</td>\n",
              "      <td>2680</td>\n",
              "    </tr>\n",
              "    <tr>\n",
              "      <th>1</th>\n",
              "      <td>quijot</td>\n",
              "      <td>2186</td>\n",
              "    </tr>\n",
              "    <tr>\n",
              "      <th>2</th>\n",
              "      <td>sancho</td>\n",
              "      <td>2150</td>\n",
              "    </tr>\n",
              "    <tr>\n",
              "      <th>3</th>\n",
              "      <td>m</td>\n",
              "      <td>2044</td>\n",
              "    </tr>\n",
              "    <tr>\n",
              "      <th>4</th>\n",
              "      <td>si</td>\n",
              "      <td>1966</td>\n",
              "    </tr>\n",
              "  </tbody>\n",
              "</table>\n",
              "</div>\n",
              "      <button class=\"colab-df-convert\" onclick=\"convertToInteractive('df-ac84aab8-fde2-4db1-8880-75212d6bdded')\"\n",
              "              title=\"Convert this dataframe to an interactive table.\"\n",
              "              style=\"display:none;\">\n",
              "        \n",
              "  <svg xmlns=\"http://www.w3.org/2000/svg\" height=\"24px\"viewBox=\"0 0 24 24\"\n",
              "       width=\"24px\">\n",
              "    <path d=\"M0 0h24v24H0V0z\" fill=\"none\"/>\n",
              "    <path d=\"M18.56 5.44l.94 2.06.94-2.06 2.06-.94-2.06-.94-.94-2.06-.94 2.06-2.06.94zm-11 1L8.5 8.5l.94-2.06 2.06-.94-2.06-.94L8.5 2.5l-.94 2.06-2.06.94zm10 10l.94 2.06.94-2.06 2.06-.94-2.06-.94-.94-2.06-.94 2.06-2.06.94z\"/><path d=\"M17.41 7.96l-1.37-1.37c-.4-.4-.92-.59-1.43-.59-.52 0-1.04.2-1.43.59L10.3 9.45l-7.72 7.72c-.78.78-.78 2.05 0 2.83L4 21.41c.39.39.9.59 1.41.59.51 0 1.02-.2 1.41-.59l7.78-7.78 2.81-2.81c.8-.78.8-2.07 0-2.86zM5.41 20L4 18.59l7.72-7.72 1.47 1.35L5.41 20z\"/>\n",
              "  </svg>\n",
              "      </button>\n",
              "      \n",
              "  <style>\n",
              "    .colab-df-container {\n",
              "      display:flex;\n",
              "      flex-wrap:wrap;\n",
              "      gap: 12px;\n",
              "    }\n",
              "\n",
              "    .colab-df-convert {\n",
              "      background-color: #E8F0FE;\n",
              "      border: none;\n",
              "      border-radius: 50%;\n",
              "      cursor: pointer;\n",
              "      display: none;\n",
              "      fill: #1967D2;\n",
              "      height: 32px;\n",
              "      padding: 0 0 0 0;\n",
              "      width: 32px;\n",
              "    }\n",
              "\n",
              "    .colab-df-convert:hover {\n",
              "      background-color: #E2EBFA;\n",
              "      box-shadow: 0px 1px 2px rgba(60, 64, 67, 0.3), 0px 1px 3px 1px rgba(60, 64, 67, 0.15);\n",
              "      fill: #174EA6;\n",
              "    }\n",
              "\n",
              "    [theme=dark] .colab-df-convert {\n",
              "      background-color: #3B4455;\n",
              "      fill: #D2E3FC;\n",
              "    }\n",
              "\n",
              "    [theme=dark] .colab-df-convert:hover {\n",
              "      background-color: #434B5C;\n",
              "      box-shadow: 0px 1px 3px 1px rgba(0, 0, 0, 0.15);\n",
              "      filter: drop-shadow(0px 1px 2px rgba(0, 0, 0, 0.3));\n",
              "      fill: #FFFFFF;\n",
              "    }\n",
              "  </style>\n",
              "\n",
              "      <script>\n",
              "        const buttonEl =\n",
              "          document.querySelector('#df-ac84aab8-fde2-4db1-8880-75212d6bdded button.colab-df-convert');\n",
              "        buttonEl.style.display =\n",
              "          google.colab.kernel.accessAllowed ? 'block' : 'none';\n",
              "\n",
              "        async function convertToInteractive(key) {\n",
              "          const element = document.querySelector('#df-ac84aab8-fde2-4db1-8880-75212d6bdded');\n",
              "          const dataTable =\n",
              "            await google.colab.kernel.invokeFunction('convertToInteractive',\n",
              "                                                     [key], {});\n",
              "          if (!dataTable) return;\n",
              "\n",
              "          const docLinkHtml = 'Like what you see? Visit the ' +\n",
              "            '<a target=\"_blank\" href=https://colab.research.google.com/notebooks/data_table.ipynb>data table notebook</a>'\n",
              "            + ' to learn more about interactive tables.';\n",
              "          element.innerHTML = '';\n",
              "          dataTable['output_type'] = 'display_data';\n",
              "          await google.colab.output.renderOutput(dataTable, element);\n",
              "          const docLink = document.createElement('div');\n",
              "          docLink.innerHTML = docLinkHtml;\n",
              "          element.appendChild(docLink);\n",
              "        }\n",
              "      </script>\n",
              "    </div>\n",
              "  </div>\n",
              "  "
            ]
          },
          "metadata": {},
          "execution_count": 42
        }
      ],
      "source": [
        "import pandas as pd\n",
        "df = pd.DataFrame(top_words)\n",
        "df.head()"
      ]
    },
    {
      "cell_type": "code",
      "execution_count": 43,
      "metadata": {
        "id": "XBdy7gbkjy1Q",
        "colab": {
          "base_uri": "https://localhost:8080/",
          "height": 610
        },
        "outputId": "e08766bb-e64e-4853-9a37-8290cff73c21"
      },
      "outputs": [
        {
          "output_type": "display_data",
          "data": {
            "text/plain": [
              "<Figure size 1080x720 with 1 Axes>"
            ],
            "image/png": "[encoded data removed]"
          },
          "metadata": {
            "needs_background": "light"
          }
        }
      ],
      "source": [
        "import matplotlib.pyplot as plt\n",
        "x,y = zip(*top_words)\n",
        "plt.figure(figsize=(15,10))\n",
        "plt.bar(x,y)\n",
        "plt.xticks(rotation=90)\n",
        "plt.show()"
      ]
    },
    {
      "cell_type": "code",
      "execution_count": 44,
      "metadata": {
        "id": "933B5xnBjy1Q",
        "colab": {
          "base_uri": "https://localhost:8080/",
          "height": 608
        },
        "outputId": "7cff90d2-b958-4d82-8f98-b4981f9d1fbb"
      },
      "outputs": [
        {
          "output_type": "display_data",
          "data": {
            "text/plain": [
              "<Figure size 1080x720 with 1 Axes>"
            ],
            "image/png": "[encoded data removed]"
          },
          "metadata": {
            "needs_background": "light"
          }
        }
      ],
      "source": [
        "import matplotlib.pyplot as plt\n",
        "df = pd.DataFrame(top_words)\n",
        "plt.figure(figsize=(15,10))\n",
        "plt.bar(df[0],df[1])\n",
        "plt.xticks(rotation=45)\n",
        "plt.xlabel(\"Word\")\n",
        "plt.ylabel(\"frecuency\")\n",
        "plt.show()"
      ]
    }
  ],
  "metadata": {
    "colab": {
      "provenance": []
    },
    "kernelspec": {
      "display_name": "Python 3.10.6 64-bit",
      "language": "python",
      "name": "python3"
    },
    "language_info": {
      "codemirror_mode": {
        "name": "ipython",
        "version": 3
      },
      "file_extension": ".py",
      "mimetype": "text/x-python",
      "name": "python",
      "nbconvert_exporter": "python",
      "pygments_lexer": "ipython3",
      "version": "3.10.6"
    },
    "vscode": {
      "interpreter": {
        "hash": "aee8b7b246df8f9039afb4144a1f6fd8d2ca17a180786b69acc140d282b71a49"
      }
    }
  },
  "nbformat": 4,
  "nbformat_minor": 0
}